{
  "nbformat": 4,
  "nbformat_minor": 0,
  "metadata": {
    "colab": {
      "provenance": [],
      "mount_file_id": "1PTnDmx6MuA8YdiDSGlQbaUM6ghJEFUmo",
      "authorship_tag": "ABX9TyMX2XJHJIQ9OCimfS9mi/+Q",
      "include_colab_link": true
    },
    "kernelspec": {
      "name": "python3",
      "display_name": "Python 3"
    },
    "language_info": {
      "name": "python"
    }
  },
  "cells": [
    {
      "cell_type": "markdown",
      "metadata": {
        "id": "view-in-github",
        "colab_type": "text"
      },
      "source": [
        "<a href=\"https://colab.research.google.com/github/EstebanSOrozco/MNA-2025-Pruebas_de_Software_y_Aseguramiento_de_Calidad/blob/main/A01657027_A6_2.ipynb\" target=\"_parent\"><img src=\"https://colab.research.google.com/assets/colab-badge.svg\" alt=\"Open In Colab\"/></a>"
      ]
    },
    {
      "cell_type": "code",
      "source": [
        "!pip install flake8 pylint"
      ],
      "metadata": {
        "colab": {
          "base_uri": "https://localhost:8080/"
        },
        "id": "0pfGr6hdDWWw",
        "outputId": "f73bc175-6e6d-4a79-b05d-4a01ab027878"
      },
      "execution_count": null,
      "outputs": [
        {
          "output_type": "stream",
          "name": "stdout",
          "text": [
            "Requirement already satisfied: flake8 in /usr/local/lib/python3.10/dist-packages (7.1.1)\n",
            "Requirement already satisfied: pylint in /usr/local/lib/python3.10/dist-packages (3.3.4)\n",
            "Requirement already satisfied: mccabe<0.8.0,>=0.7.0 in /usr/local/lib/python3.10/dist-packages (from flake8) (0.7.0)\n",
            "Requirement already satisfied: pycodestyle<2.13.0,>=2.12.0 in /usr/local/lib/python3.10/dist-packages (from flake8) (2.12.1)\n",
            "Requirement already satisfied: pyflakes<3.3.0,>=3.2.0 in /usr/local/lib/python3.10/dist-packages (from flake8) (3.2.0)\n",
            "Requirement already satisfied: dill>=0.2 in /usr/local/lib/python3.10/dist-packages (from pylint) (0.3.9)\n",
            "Requirement already satisfied: platformdirs>=2.2.0 in /usr/local/lib/python3.10/dist-packages (from pylint) (4.3.6)\n",
            "Requirement already satisfied: astroid<=3.4.0-dev0,>=3.3.8 in /usr/local/lib/python3.10/dist-packages (from pylint) (3.3.8)\n",
            "Requirement already satisfied: isort!=5.13.0,<7,>=4.2.5 in /usr/local/lib/python3.10/dist-packages (from pylint) (6.0.0)\n",
            "Requirement already satisfied: tomli>=1.1.0 in /usr/local/lib/python3.10/dist-packages (from pylint) (2.2.1)\n",
            "Requirement already satisfied: tomlkit>=0.10.1 in /usr/local/lib/python3.10/dist-packages (from pylint) (0.13.2)\n",
            "Requirement already satisfied: typing-extensions>=4.0.0 in /usr/local/lib/python3.10/dist-packages (from astroid<=3.4.0-dev0,>=3.3.8->pylint) (4.12.2)\n"
          ]
        }
      ]
    },
    {
      "cell_type": "code",
      "source": [
        "\"\"\"\n",
        "Módulo para gestionar un sistema de reservas de hoteles.\n",
        "Incluye clases para hoteles, clientes y pruebas unitarias.\n",
        "\"\"\"\n",
        "\n",
        "import json\n",
        "import os\n",
        "import unittest\n",
        "\n",
        "\n",
        "class Hotel:\n",
        "    \"\"\"Representa un hotel con habitaciones disponibles para reservar.\"\"\"\n",
        "\n",
        "    FILE_PATH = \"hotels.json\"\n",
        "\n",
        "    def __init__(self, name, location, rooms):\n",
        "        \"\"\"Inicializa un hotel con nombre, ubicación y lista de habitaciones.\"\"\"\n",
        "        self.name = name\n",
        "        self.location = location\n",
        "        self.rooms = rooms\n",
        "        self.reservations = {}\n",
        "\n",
        "    def to_dict(self):\n",
        "        \"\"\"Convierte el objeto hotel a un diccionario.\"\"\"\n",
        "        return {\n",
        "            \"name\": self.name,\n",
        "            \"location\": self.location,\n",
        "            \"rooms\": self.rooms,\n",
        "            \"reservations\": self.reservations\n",
        "        }\n",
        "\n",
        "    @classmethod\n",
        "    def save_to_file(cls, hotels):\n",
        "        \"\"\"Guarda los datos de los hoteles en un archivo JSON.\"\"\"\n",
        "        with open(cls.FILE_PATH, \"w\", encoding=\"utf-8\") as file:\n",
        "            json.dump([hotel.to_dict() for hotel in hotels], file, indent=4)\n",
        "\n",
        "    @classmethod\n",
        "    def load_from_file(cls):\n",
        "        \"\"\"Carga los datos de los hoteles desde un archivo JSON.\"\"\"\n",
        "        if not os.path.exists(cls.FILE_PATH):\n",
        "            return []\n",
        "        with open(cls.FILE_PATH, \"r\", encoding=\"utf-8\") as file:\n",
        "            try:\n",
        "                data = json.load(file)\n",
        "                return [cls(**hotel) for hotel in data]\n",
        "            except (json.JSONDecodeError, KeyError):\n",
        "                print(\"Error loading hotel data.\")\n",
        "                return []\n",
        "\n",
        "    def reserve_room(self, customer_id, room_number):\n",
        "        \"\"\"Reserva una habitación para un cliente.\"\"\"\n",
        "        if room_number in self.reservations:\n",
        "            print(\"Room already reserved.\")\n",
        "            return False\n",
        "        if room_number not in self.rooms:\n",
        "            print(\"Invalid room number.\")\n",
        "            return False\n",
        "        self.reservations[room_number] = customer_id\n",
        "        return True\n",
        "\n",
        "    def cancel_reservation(self, room_number):\n",
        "        \"\"\"Cancela una reserva existente.\"\"\"\n",
        "        if room_number in self.reservations:\n",
        "            del self.reservations[room_number]\n",
        "            return True\n",
        "        print(\"Reservation not found.\")\n",
        "        return False\n",
        "\n",
        "\n",
        "class Customer:\n",
        "    \"\"\"Representa un cliente que realiza reservas en hoteles.\"\"\"\n",
        "\n",
        "    FILE_PATH = \"customers.json\"\n",
        "\n",
        "    def __init__(self, customer_id, name, email):\n",
        "        \"\"\"Inicializa un cliente con ID, nombre y correo electrónico.\"\"\"\n",
        "        self.customer_id = customer_id\n",
        "        self.name = name\n",
        "        self.email = email\n",
        "\n",
        "    def to_dict(self):\n",
        "        \"\"\"Convierte el objeto cliente a un diccionario.\"\"\"\n",
        "        return {\n",
        "            \"customer_id\": self.customer_id,\n",
        "            \"name\": self.name,\n",
        "            \"email\": self.email\n",
        "        }\n",
        "\n",
        "    @classmethod\n",
        "    def save_to_file(cls, customers):\n",
        "        \"\"\"Guarda los datos de los clientes en un archivo JSON.\"\"\"\n",
        "        with open(cls.FILE_PATH, \"w\", encoding=\"utf-8\") as file:\n",
        "            json.dump([customer.to_dict() for customer in customers], file, indent=4)\n",
        "\n",
        "    @classmethod\n",
        "    def load_from_file(cls):\n",
        "        \"\"\"Carga los datos de los clientes desde un archivo JSON.\"\"\"\n",
        "        if not os.path.exists(cls.FILE_PATH):\n",
        "            return []\n",
        "        with open(cls.FILE_PATH, \"r\", encoding=\"utf-8\") as file:\n",
        "            try:\n",
        "                data = json.load(file)\n",
        "                return [cls(**customer) for customer in data]\n",
        "            except (json.JSONDecodeError, KeyError):\n",
        "                print(\"Error loading customer data.\")\n",
        "                return []\n",
        "\n",
        "\n",
        "class ReservationSystemTest(unittest.TestCase):\n",
        "    \"\"\"Pruebas unitarias para el sistema de reservas.\"\"\"\n",
        "\n",
        "    def test_create_hotel(self):\n",
        "        \"\"\"Prueba la creación de un hotel.\"\"\"\n",
        "        hotel = Hotel(\"Test Hotel\", \"City Center\", [101, 102, 103])\n",
        "        self.assertEqual(hotel.name, \"Test Hotel\")\n",
        "        self.assertEqual(len(hotel.rooms), 3)\n",
        "\n",
        "    def test_create_customer(self):\n",
        "        \"\"\"Prueba la creación de un cliente.\"\"\"\n",
        "        customer = Customer(1, \"John Doe\", \"john@example.com\")\n",
        "        self.assertEqual(customer.name, \"John Doe\")\n",
        "\n",
        "    def test_reserve_room(self):\n",
        "        \"\"\"Prueba la reserva de una habitación.\"\"\"\n",
        "        hotel = Hotel(\"Test Hotel\", \"City Center\", [101, 102, 103])\n",
        "        self.assertTrue(hotel.reserve_room(1, 101))\n",
        "        self.assertFalse(hotel.reserve_room(1, 101))  # Ya reservada\n",
        "\n",
        "    def test_cancel_reservation(self):\n",
        "        \"\"\"Prueba la cancelación de una reserva.\"\"\"\n",
        "        hotel = Hotel(\"Test Hotel\", \"City Center\", [101, 102, 103])\n",
        "        hotel.reserve_room(1, 101)\n",
        "        self.assertTrue(hotel.cancel_reservation(101))\n",
        "        self.assertFalse(hotel.cancel_reservation(101))  # Ya cancelada\n",
        "\n",
        "\n",
        "if __name__ == \"__main__\":\n",
        "    unittest.main(argv=['first-arg-is-ignored'], exit=False)"
      ],
      "metadata": {
        "id": "8GwftKi-4LDD",
        "colab": {
          "base_uri": "https://localhost:8080/"
        },
        "outputId": "c5cca85c-d40f-40a4-d3e4-e030169929c6"
      },
      "execution_count": null,
      "outputs": [
        {
          "output_type": "stream",
          "name": "stderr",
          "text": [
            "....\n",
            "----------------------------------------------------------------------\n",
            "Ran 4 tests in 0.008s\n",
            "\n",
            "OK\n"
          ]
        },
        {
          "output_type": "stream",
          "name": "stdout",
          "text": [
            "Reservation not found.\n",
            "Room already reserved.\n"
          ]
        }
      ]
    },
    {
      "cell_type": "code",
      "source": [],
      "metadata": {
        "id": "qq3Rz1RLKxzS"
      },
      "execution_count": null,
      "outputs": []
    }
  ]
}